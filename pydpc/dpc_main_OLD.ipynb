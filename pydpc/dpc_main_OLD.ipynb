{
 "cells": [
  {
   "cell_type": "code",
   "execution_count": null,
   "metadata": {
    "ExecuteTime": {
     "end_time": "2017-07-14T11:42:37.627917Z",
     "start_time": "2017-07-14T11:42:37.569261Z"
    }
   },
   "outputs": [],
   "source": [
    "%load_ext autoreload\n",
    "%autoreload 2\n",
    "import numpy as np\n",
    "from skimage import io\n",
    "import matplotlib.pyplot as plt\n",
    "import pickle\n",
    "import pyfftw\n",
    "from labutil.opticstools import _genGrid, propKernel"
   ]
  },
  {
   "cell_type": "markdown",
   "metadata": {},
   "source": [
    "# DPC example"
   ]
  },
  {
   "cell_type": "code",
   "execution_count": null,
   "metadata": {
    "ExecuteTime": {
     "end_time": "2017-07-14T11:41:59.810855Z",
     "start_time": "2017-07-14T11:41:59.746684Z"
    },
    "scrolled": true
   },
   "outputs": [],
   "source": [
    "imgs = io.imread('/Users/mac/Dropbox/develop/computational-imaging/data/DPC/DPC.tif')\n",
    "imgs = imgs.transpose((2,0,1))"
   ]
  },
  {
   "cell_type": "code",
   "execution_count": null,
   "metadata": {
    "ExecuteTime": {
     "end_time": "2017-07-14T11:42:12.255447Z",
     "start_time": "2017-07-14T11:42:04.562993Z"
    }
   },
   "outputs": [],
   "source": [
    "from dpc import DPCSolver\n",
    "\n",
    "pixel_size = 6.5/80.601\n",
    "NA         = 0.65\n",
    "wavelength = 0.514\n",
    "RI         = 1.5720\n",
    "DPCObj = DPCSolver(imgs, pixel_size, wavelength, NA, RI = RI, rotation = [0, 180, 90, 270], NA_in=0.0)"
   ]
  },
  {
   "cell_type": "code",
   "execution_count": null,
   "metadata": {
    "ExecuteTime": {
     "end_time": "2017-07-14T11:42:16.693749Z",
     "start_time": "2017-07-14T11:42:16.192918Z"
    }
   },
   "outputs": [],
   "source": [
    "%matplotlib inline\n",
    "\n",
    "xlin  = _genGrid(imgs[0].shape[1], pixel_size)\n",
    "ylin  = _genGrid(imgs[0].shape[0], pixel_size)\n",
    "fxlin = _genGrid(imgs[0].shape[1], 1/pixel_size/imgs[0].shape[1])\n",
    "fylin = _genGrid(imgs[0].shape[0], 1/pixel_size/imgs[0].shape[0])\n",
    "\n",
    "#plot first set of measured DPC intensities\n",
    "f,ax = plt.subplots(1,4,sharex=True,sharey=True,figsize=(12,3))\n",
    "for plotIdx in range(4):\n",
    "    ax[plotIdx].imshow(DPCObj.intensity[plotIdx],cmap='gray',clim=(-.2,.2),\\\n",
    "                       extent=[min(xlin.real),max(xlin.real),min(ylin.real),max(ylin.real)])\n",
    "    ax[plotIdx].set_xlim(-5,5)\n",
    "    ax[plotIdx].set_ylim(-5,5)\n",
    "    ax[plotIdx].set_aspect(1)"
   ]
  },
  {
   "cell_type": "code",
   "execution_count": null,
   "metadata": {
    "ExecuteTime": {
     "end_time": "2017-07-14T11:42:20.212607Z",
     "start_time": "2017-07-14T11:42:19.792489Z"
    }
   },
   "outputs": [],
   "source": [
    "#plot the sources\n",
    "maxNAx = max(fxlin.real*wavelength/NA)\n",
    "minNAx = min(fxlin.real*wavelength/NA)\n",
    "maxNAy = max(fylin.real*wavelength/NA)\n",
    "minNAy = min(fylin.real*wavelength/NA)\n",
    "f,ax = plt.subplots(1,4,sharex=True,sharey=True,figsize=(12,3))\n",
    "for plotIdx,s in enumerate(list(DPCObj.source)):\n",
    "    ax[plotIdx].imshow(np.fft.fftshift(DPCObj.source[plotIdx]),\\\n",
    "                                            cmap='gray',clim=(0,1),extent=[minNAx,maxNAx,minNAy,maxNAy])\n",
    "    ax[plotIdx].set_xlim(-1.2,1.2)\n",
    "    ax[plotIdx].set_ylim(-1.2,1.2)\n",
    "    ax[plotIdx].set_aspect(1)"
   ]
  },
  {
   "cell_type": "code",
   "execution_count": null,
   "metadata": {
    "ExecuteTime": {
     "end_time": "2017-07-14T11:42:22.641566Z",
     "start_time": "2017-07-14T11:42:21.808851Z"
    },
    "scrolled": false
   },
   "outputs": [],
   "source": [
    "#plot the transfer functions\n",
    "f,ax = plt.subplots(2,4,sharex=True,sharey=True,figsize = (12,6))\n",
    "for plotIdx in range(ax.size):\n",
    "    row = plotIdx//4\n",
    "    col = np.mod(plotIdx,4)\n",
    "    if row == 0:\n",
    "        ax[row,col].imshow(np.fft.fftshift(DPCObj.Hu[col].real),cmap='jet',\\\n",
    "                           extent=[minNAx,maxNAx,minNAy,maxNAy],clim=[-1.6,1.6])\n",
    "    else:\n",
    "        ax[row,col].imshow(np.fft.fftshift(DPCObj.Hp[col].imag),cmap='jet',\\\n",
    "                           extent=[minNAx,maxNAx,minNAy,maxNAy],clim=[-.8,.8])\n",
    "    ax[row,col].set_xlim(-2.2,2.2)\n",
    "    ax[row,col].set_ylim(-2.2,2.2)\n",
    "    ax[row,col].set_aspect(1)"
   ]
  },
  {
   "cell_type": "code",
   "execution_count": null,
   "metadata": {},
   "outputs": [],
   "source": [
    "DPCObj.reg_u    = 1e-1\n",
    "DPCObj.reg_p    = 1e-5\n",
    "dpc_phase_l2    = DPCObj.solve()"
   ]
  },
  {
   "cell_type": "code",
   "execution_count": null,
   "metadata": {},
   "outputs": [],
   "source": [
    "DPCObj.reg_u    = 1\n",
    "DPCObj.reg_p    = 1e-5\n",
    "DPCObj.reg_TV   = (1e-2,1e-2)\n",
    "DPCObj.rho      = 5e-1\n",
    "dpc_phase_1_iso = DPCObj.solve(method='tvDeconv', maxIter = 15)"
   ]
  },
  {
   "cell_type": "code",
   "execution_count": null,
   "metadata": {},
   "outputs": [],
   "source": [
    "DPCObj.reg_u    = 1\n",
    "DPCObj.reg_p    = 1e-5\n",
    "DPCObj.reg_TV   = (1e-2,1e-2)\n",
    "DPCObj.rho      = 5e-1\n",
    "dpc_phase_2_iso = DPCObj.solve(method='tvDeconv',order = 2, maxIter = 15)"
   ]
  },
  {
   "cell_type": "code",
   "execution_count": null,
   "metadata": {},
   "outputs": [],
   "source": [
    "import contexttimer\n",
    "with contexttimer.Timer() as t:\n",
    "    DPCObj.reg_u    = 1\n",
    "    DPCObj.reg_p    = 1e-5\n",
    "    DPCObj.reg_TV   = (1e-2,1e-2)\n",
    "    DPCObj.rho      = 5e-1\n",
    "    dpc_phase_3_iso = DPCObj.solve(method='tvDeconv', order = 3, maxIter = 15)\n",
    "    print(t.elapsed)"
   ]
  },
  {
   "cell_type": "code",
   "execution_count": null,
   "metadata": {},
   "outputs": [],
   "source": [
    "from labutil.opticstools import pupilGen,Fourier\n",
    "Fobj        = Fourier(imgs[0].shape,(-1,-2))\n",
    "F           = lambda x: Fobj.fourierTransform(x)\n",
    "IF          = lambda x: Fobj.inverseFourierTransform(x)\n",
    "P2NA        = pupilGen(imgs[0].shape, pixel_size, NA*2.0, wavelength)\n",
    "phantom     = np.zeros(imgs[0].shape)\n",
    "phantom     = (1.5**-1)*(1.5**2-(xlin.real[np.newaxis,:]-0.1)**2-(ylin.real[:,np.newaxis]+0)**2)**0.5\n",
    "phantom[(xlin.real[np.newaxis,:]-0.1)**2+(ylin.real[:,np.newaxis]+0)**2>1.5**2]=0\n",
    "# phantom = np.angle(IF(F(np.exp(1j*phantom))*P2NA))\n",
    "color_label = ['r','g','b','c']\n",
    "for plotIdx,img in enumerate([dpc_phase_l2[0], dpc_phase_1_iso[0], dpc_phase_2_iso[0], dpc_phase_3_iso[0]]):\n",
    "    plt.plot(img[260,:].imag,color=color_label[plotIdx])\n",
    "    plt.xlim(160,350)\n",
    "plt.scatter(np.arange(512),phantom[260,:],facecolors='none',edgecolors='k')"
   ]
  },
  {
   "cell_type": "code",
   "execution_count": null,
   "metadata": {
    "scrolled": true
   },
   "outputs": [],
   "source": [
    "color_label = ['r','g','b','c','k']\n",
    "for plotIdx,img in enumerate([dpc_phase_l2[0],dpc_phase_1_iso[0],dpc_phase_2_iso[0],dpc_phase_3_iso[0],1j*phantom]):\n",
    "    plt.plot(np.gradient(img[260,:].imag),color=color_label[plotIdx])\n",
    "    plt.xlim(160,350)"
   ]
  },
  {
   "cell_type": "code",
   "execution_count": null,
   "metadata": {
    "scrolled": true
   },
   "outputs": [],
   "source": [
    "color_label = ['r','g','b','c','k']\n",
    "for plotIdx,img in enumerate([dpc_phase_l2[0],dpc_phase_1_iso[0],dpc_phase_2_iso[0],dpc_phase_3_iso[0],1j*phantom]):\n",
    "    plt.plot(np.gradient(np.gradient(img[260,:].imag)),color=color_label[plotIdx])\n",
    "    plt.xlim(160,350)"
   ]
  },
  {
   "cell_type": "code",
   "execution_count": null,
   "metadata": {
    "scrolled": true
   },
   "outputs": [],
   "source": [
    "color_label = ['r','g','b','c','k']\n",
    "for plotIdx,img in enumerate([dpc_phase_l2[0],dpc_phase_1_iso[0],dpc_phase_2_iso[0],dpc_phase_3_iso[0],1j*phantom]):\n",
    "    plt.plot(np.gradient(np.gradient(np.gradient(img[260,:].imag))),color=color_label[plotIdx])\n",
    "    plt.xlim(160,350)"
   ]
  },
  {
   "cell_type": "code",
   "execution_count": null,
   "metadata": {
    "scrolled": false
   },
   "outputs": [],
   "source": [
    "plt.figure(figsize=(10,6))\n",
    "for plotIdx,img in enumerate([dpc_phase_l2,dpc_phase_1_iso,dpc_phase_2_iso,dpc_phase_3_iso,\\\n",
    "                              dpc_phase_l2,dpc_phase_1_iso,dpc_phase_2_iso,dpc_phase_3_iso]):\n",
    "    plt.subplot('24'+str(plotIdx+1))\n",
    "    val_limit = (0.95,1.05) if plotIdx<4 else (-.5,1.1)\n",
    "    data_display = np.exp(img[0].real) if plotIdx<4 else img[0].imag\n",
    "    plt.imshow(data_display,clim=val_limit,cmap='gray',extent=[min(xlin.real),max(xlin.real),min(ylin.real),max(ylin.real)])\n",
    "    if plotIdx>3: plt.xlabel('x, $\\mu m$')\n",
    "    if plotIdx==0 or plotIdx==4:plt.ylabel('y, $\\mu m$')\n",
    "    plt.xlim(-5,5)\n",
    "    plt.ylim(-5,5)\n",
    "    title_text = 'amplitude' if plotIdx<4 else 'phase'\n",
    "    plt.title(title_text)"
   ]
  },
  {
   "cell_type": "code",
   "execution_count": null,
   "metadata": {
    "scrolled": true
   },
   "outputs": [],
   "source": [
    "plt.figure(figsize=(16,4))\n",
    "for plotIdx,img in enumerate([dpc_phase_l2,dpc_phase_1_iso,dpc_phase_2_iso,dpc_phase_3_iso,[1j*phantom]]):\n",
    "    plt.subplot('15'+str(plotIdx+1))\n",
    "    plt.imshow(np.gradient(img[0].imag,axis=0),clim=(-.1,.1),cmap='gray',extent=[min(xlin.real),max(xlin.real),min(ylin.real),max(ylin.real)])\n",
    "    plt.xlabel('x, $\\mu m$')\n",
    "    if plotIdx==0:plt.ylabel('y, $\\mu m$')\n",
    "    plt.xlim(-5,5)\n",
    "    plt.ylim(-5,5)\n",
    "    plt.title('phase_gradient')"
   ]
  },
  {
   "cell_type": "code",
   "execution_count": null,
   "metadata": {
    "scrolled": true
   },
   "outputs": [],
   "source": [
    "dpc_phase_gd,error_gd = DPCObj.solve(method='gradientDescent',maxIter=200,convex=True,plot_verbose=False,verbose=True)"
   ]
  },
  {
   "cell_type": "code",
   "execution_count": null,
   "metadata": {
    "scrolled": false
   },
   "outputs": [],
   "source": [
    "plt.figure(figsize=(12,4))\n",
    "plt.subplot(131)\n",
    "plt.imshow(dpc_phase_gd[0].imag,cmap='gray',clim=(-0.5,1.1),extent=[min(xlin.real),max(xlin.real),min(ylin.real),max(ylin.real)])\n",
    "plt.xlim(-5,5)\n",
    "plt.ylim(-5,5)\n",
    "plt.subplot(132)\n",
    "plt.plot(dpc_phase_gd[0][260,:].imag,color='r')\n",
    "plt.xlim(160,350)\n",
    "plt.subplot(133)\n",
    "plt.scatter(np.arange(len(error_gd[0])),np.log10(error_gd[0]),marker='o',color='b')"
   ]
  },
  {
   "cell_type": "code",
   "execution_count": null,
   "metadata": {
    "scrolled": true
   },
   "outputs": [],
   "source": [
    "dpc_phase_FISTA,error_FISTA = DPCObj.solve(method='FISTA',maxIter=200,convex=True,plot_verbose=False,verbose=True)"
   ]
  },
  {
   "cell_type": "code",
   "execution_count": null,
   "metadata": {
    "scrolled": false
   },
   "outputs": [],
   "source": [
    "plt.figure(figsize=(12,4))\n",
    "plt.subplot(131)\n",
    "plt.imshow(dpc_phase_FISTA[0].imag,cmap='gray',clim=(-0.5,1.1),extent=[min(xlin.real),max(xlin.real),min(ylin.real),max(ylin.real)])\n",
    "plt.xlim(-5,5)\n",
    "plt.ylim(-5,5)\n",
    "plt.subplot(132)\n",
    "plt.plot(dpc_phase_FISTA[0][260,:].imag,color='r')\n",
    "plt.xlim(160,350)\n",
    "plt.subplot(133)\n",
    "plt.scatter(np.arange(len(error_FISTA[0])),np.log10(error_FISTA[0]),marker='o',color='b')"
   ]
  },
  {
   "cell_type": "code",
   "execution_count": null,
   "metadata": {
    "scrolled": true
   },
   "outputs": [],
   "source": [
    "dpc_phase_newton,error_newton = DPCObj.solve(method='newton',maxIter=3,verbose=True)"
   ]
  },
  {
   "cell_type": "code",
   "execution_count": null,
   "metadata": {
    "scrolled": false
   },
   "outputs": [],
   "source": [
    "plt.figure(figsize=(12,4))\n",
    "plt.subplot(131)\n",
    "plt.imshow(dpc_phase_newton[0].imag,cmap='gray',clim=(-0.5,1.1),extent=[min(xlin.real),max(xlin.real),min(ylin.real),max(ylin.real)])\n",
    "plt.xlim(-5,5)\n",
    "plt.ylim(-5,5)\n",
    "plt.subplot(132)\n",
    "plt.plot(dpc_phase_newton[0][260,:].imag,color='r')\n",
    "plt.xlim(160,350)\n",
    "plt.subplot(133)\n",
    "plt.scatter(np.arange(len(error_newton[0])),np.log10(error_newton[0]),marker='o',color='b')"
   ]
  },
  {
   "cell_type": "code",
   "execution_count": null,
   "metadata": {},
   "outputs": [],
   "source": [
    "pickle.dump(pyfftw.export_wisdom(),open('../wisdoms/wisdom_gallery.pickle','wb'))"
   ]
  }
 ],
 "metadata": {
  "kernelspec": {
   "display_name": "Python [default]",
   "language": "python",
   "name": "python3"
  },
  "language_info": {
   "codemirror_mode": {
    "name": "ipython",
    "version": 3
   },
   "file_extension": ".py",
   "mimetype": "text/x-python",
   "name": "python",
   "nbconvert_exporter": "python",
   "pygments_lexer": "ipython3",
   "version": "3.6.2"
  },
  "latex_envs": {
   "LaTeX_envs_menu_present": true,
   "autocomplete": true,
   "bibliofile": "biblio.bib",
   "cite_by": "apalike",
   "current_citInitial": 1,
   "eqLabelWithNumbers": true,
   "eqNumInitial": 1,
   "hotkeys": {
    "equation": "Ctrl-E",
    "itemize": "Ctrl-I"
   },
   "labels_anchors": false,
   "latex_user_defs": false,
   "report_style_numbering": false,
   "user_envs_cfg": false
  },
  "varInspector": {
   "cols": {
    "lenName": 16,
    "lenType": 16,
    "lenVar": 40
   },
   "kernels_config": {
    "python": {
     "delete_cmd_postfix": "",
     "delete_cmd_prefix": "del ",
     "library": "var_list.py",
     "varRefreshCmd": "print(var_dic_list())"
    },
    "r": {
     "delete_cmd_postfix": ") ",
     "delete_cmd_prefix": "rm(",
     "library": "var_list.r",
     "varRefreshCmd": "cat(var_dic_list()) "
    }
   },
   "types_to_exclude": [
    "module",
    "function",
    "builtin_function_or_method",
    "instance",
    "_Feature"
   ],
   "window_display": true
  }
 },
 "nbformat": 4,
 "nbformat_minor": 2
}
