{
 "cells": [
  {
   "cell_type": "markdown",
   "metadata": {
    "deletable": true,
    "editable": true
   },
   "source": [
    "# Initialization"
   ]
  },
  {
   "cell_type": "code",
   "execution_count": null,
   "metadata": {
    "collapsed": false,
    "deletable": true,
    "editable": true
   },
   "outputs": [],
   "source": [
    "%load_ext autoreload\n",
    "%autoreload 2\n",
    "%matplotlib notebook\n",
    "import numpy as np\n",
    "from skimage import io\n",
    "import matplotlib.pyplot as plt\n",
    "import pickle\n",
    "import pyfftw\n",
    "from displayTools import Plot_2D\n",
    "import displayTools as dt\n",
    "import opticsTools as ot\n",
    "# wisdom = pickle.load(open('../wisdoms/wisdom_gallery.pickle','rb'))\n",
    "# pyfftw.import_wisdom(wisdom)"
   ]
  },
  {
   "cell_type": "markdown",
   "metadata": {
    "deletable": true,
    "editable": true
   },
   "source": [
    "# DPC example"
   ]
  },
  {
   "cell_type": "markdown",
   "metadata": {
    "deletable": true,
    "editable": true
   },
   "source": [
    "## Load Raw Data"
   ]
  },
  {
   "cell_type": "code",
   "execution_count": null,
   "metadata": {
    "collapsed": false,
    "deletable": true,
    "editable": true
   },
   "outputs": [],
   "source": [
    "imgDir = '/Users/zfphil/Dropbox/Datasets/AQLM/2017_05_05 - Multi-Contrast/'\n",
    "fileName = '2017_05_06_dpc+gfp_30sec_df.tif'\n",
    "\n",
    "# Create object for dataset\n",
    "dataStack = dt.MultiTiff(imgDir + fileName)\n",
    "assert dataStack.nPages > 0 , 'Could not load data!'"
   ]
  },
  {
   "cell_type": "code",
   "execution_count": null,
   "metadata": {
    "collapsed": false
   },
   "outputs": [],
   "source": []
  },
  {
   "cell_type": "markdown",
   "metadata": {
    "deletable": true,
    "editable": true
   },
   "source": [
    "## Define Dataset Parameters"
   ]
  },
  {
   "cell_type": "code",
   "execution_count": null,
   "metadata": {
    "collapsed": false,
    "deletable": true,
    "editable": true
   },
   "outputs": [],
   "source": [
    "dataParams = ot.metadata(dataStack.imgSize,\\\n",
    "                         wavelength = 0.514,\\\n",
    "                         mag = 40,\\\n",
    "                         NA = 0.4,\\\n",
    "                         NA_in = 0.0,\\\n",
    "                         RI = 1.33,\\\n",
    "                         rotation = [90, 270, 180, 0])"
   ]
  },
  {
   "cell_type": "code",
   "execution_count": null,
   "metadata": {
    "collapsed": false,
    "deletable": true,
    "editable": true
   },
   "outputs": [],
   "source": [
    "from opticsTools import DPC_solver\n",
    "DPCObj = DPC_solver(dataParams)\n",
    "\n",
    "firstFrame = mt.read(channel = 0, time = 0, z = 0)\n",
    "DPCObj.setRoi(firstFrame)"
   ]
  },
  {
   "cell_type": "markdown",
   "metadata": {
    "deletable": true,
    "editable": true
   },
   "source": [
    "## Show Sources"
   ]
  },
  {
   "cell_type": "code",
   "execution_count": null,
   "metadata": {
    "collapsed": false,
    "deletable": true,
    "editable": true
   },
   "outputs": [],
   "source": [
    "%matplotlib inline\n",
    "#plot the sources\n",
    "maxNAx = max(dataParams.fxlin.real * dataParams.wavelength / dataParams.NA)\n",
    "minNAx = min(dataParams.fxlin.real * dataParams.wavelength / dataParams.NA)\n",
    "maxNAy = max(dataParams.fylin.real * dataParams.wavelength / dataParams.NA)\n",
    "minNAy = min(dataParams.fylin.real * dataParams.wavelength / dataParams.NA)\n",
    "f,ax = plt.subplots(1,4,sharex=True,sharey=True,figsize=(12,3))\n",
    "for plotIdx,s in enumerate(list(DPCObj.source)):\n",
    "    ax[plotIdx].imshow(np.fft.fftshift(DPCObj.source[plotIdx]),\\\n",
    "                                            cmap='gray',clim=(0,1),extent=[minNAx,maxNAx,minNAy,maxNAy])\n",
    "    ax[plotIdx].set_xlim(-1.2,1.2)\n",
    "    ax[plotIdx].set_ylim(-1.2,1.2)\n",
    "    ax[plotIdx].set_aspect(1)"
   ]
  },
  {
   "cell_type": "markdown",
   "metadata": {
    "deletable": true,
    "editable": true
   },
   "source": [
    "## Show Transfer Functions"
   ]
  },
  {
   "cell_type": "code",
   "execution_count": null,
   "metadata": {
    "collapsed": false,
    "deletable": true,
    "editable": true
   },
   "outputs": [],
   "source": [
    "f,ax = plt.subplots(2,4,sharex=True,sharey=True,figsize = (12,6))\n",
    "for plotIdx in range(ax.size):\n",
    "    row = plotIdx // 4\n",
    "    col = np.mod(plotIdx,4)\n",
    "    if row == 0:\n",
    "        ax[row,col].imshow(np.fft.fftshift(DPCObj.Hu[col].real),cmap='jet',\\\n",
    "                           extent=[minNAx,maxNAx,minNAy,maxNAy],clim=[-1.6,1.6])\n",
    "    else:\n",
    "        ax[row,col].imshow(np.fft.fftshift(DPCObj.Hp[col].imag),cmap='jet',\\\n",
    "                           extent=[minNAx,maxNAx,minNAy,maxNAy],clim=[-.8,.8])\n",
    "    ax[row,col].set_xlim(-2.2,2.2)\n",
    "    ax[row,col].set_ylim(-2.2,2.2)\n",
    "    ax[row,col].set_aspect(1)"
   ]
  },
  {
   "cell_type": "markdown",
   "metadata": {
    "deletable": true,
    "editable": true
   },
   "source": [
    "# Process Video Frames"
   ]
  },
  {
   "cell_type": "code",
   "execution_count": null,
   "metadata": {
    "collapsed": false,
    "deletable": true,
    "editable": true
   },
   "outputs": [],
   "source": [
    "# How to divide up channels\n",
    "dpcIdx = range(0,4)\n",
    "dfIdx = 4\n",
    "gfpIdx = 5\n",
    "\n",
    "# Regularization\n",
    "DPCObj.reg_u = 1e-2\n",
    "DPCObj.reg_p = 1e-3\n",
    "DPCObj.reg_TV = (1e-2,1e-2)\n",
    "DPCObj.rho = 5e-1\n",
    "\n",
    "# Variables to Populate\n",
    "frameSz = dataStack.imgSize\n",
    "imgs_gfp   = np.zeros((dataStack.nTimePoints, frameSz[0], frameSz[1]))\n",
    "imgs_df    = np.zeros((dataStack.nTimePoints, frameSz[0], frameSz[1]))\n",
    "imgs_phase = np.zeros((dataStack.nTimePoints, frameSz[0], frameSz[1]))\n",
    "\n",
    "# Loop over all time positions, \n",
    "for timeIdx in range(0, 10):\n",
    "    frameList = np.zeros((dataStack.nChan, frameSz[0], frameSz[1]), dtype = np.uint16)\n",
    "    \n",
    "    frameList = dataStack.read(z = 0, time = timeIdx)\n",
    "    \n",
    "    # Set Darkfield and Phase\n",
    "    imgs_df[timeIdx,:,:] = frameList[dfIdx, :, :]\n",
    "    imgs_gfp[timeIdx, :,:] = frameList[gfpIdx, :, :]\n",
    "    \n",
    "    # Collect DPC Images\n",
    "    imgs_dpc = frameList[dpcIdx,:, :]\n",
    "    \n",
    "    # Set Data For This Frame\n",
    "    DPCObj.setRawData(imgs_dpc)\n",
    "    \n",
    "    # Solve for Object using higher-order TV\n",
    "    dpc_phase = DPCObj.solve(method='TVDeconv', order = 3, maxIter = 2)\n",
    "\n",
    "    # TODO - write (append) page to multi-page tiff\n",
    "    \n",
    "    \n",
    "    print('Finished Time Point %d of %d' % (timeIdx+1, dataStack.nTimePoints))\n",
    "    \n",
    "# Display Results\n",
    "f = plt.subplots(1,2,figsize = (12,6))\n",
    "ax = plt.subplot(121); plt.imshow(np.real(dpc_phase), cmap = 'gray'); plt.title('Recovered Absorption')\n",
    "ax = plt.subplot(122); plt.imshow(np.imag(dpc_phase), cmap = 'gray'); plt.title('Recovered Phase')"
   ]
  },
  {
   "cell_type": "code",
   "execution_count": null,
   "metadata": {
    "collapsed": false,
    "deletable": true,
    "editable": true
   },
   "outputs": [],
   "source": [
    "DPCObj.reg_u = 1e-2\n",
    "DPCObj.reg_p = 7e-3\n",
    "DPCObj.reg_TV = (5e-3, 5e-3)\n",
    "DPCObj.rho = 0.1\n",
    "dpc_phase = DPCObj.solve(method = 'TVDeconv', maxIter = 2, order = 3)\n",
    "\n",
    "plt.figure(figsize=(12,12))\n",
    "plt.imshow(np.imag(-dpc_phase[0,:,:,]),cmap = 'gray'); plt.colorbar()\n"
   ]
  },
  {
   "cell_type": "markdown",
   "metadata": {
    "deletable": true,
    "editable": true
   },
   "source": [
    "# Tesing Code Snippets"
   ]
  },
  {
   "cell_type": "markdown",
   "metadata": {
    "deletable": true,
    "editable": true
   },
   "source": [
    "## Dataset IO"
   ]
  },
  {
   "cell_type": "code",
   "execution_count": null,
   "metadata": {
    "collapsed": false,
    "deletable": true,
    "editable": true
   },
   "outputs": [],
   "source": [
    "import displayTools\n",
    "\n",
    "# imgDir = '/Users/zfphil/Dropbox/Datasets/AQLM/2017_05_04 - 3D-DPC/'\n",
    "# fileName= '2017_05_04_3d-dpc-test001.tif'\n",
    "\n",
    "imgDir = '/Users/zfphil/Dropbox/Datasets/AQLM/2017_05_05 - Multi-Contrast/'\n",
    "fileName = '2017_05_06_dpc+gfp_30sec_df.tif'\n",
    "\n",
    "mt = displayTools.MultiTiff(imgDir + fileName)\n",
    "frame = mt.read(channel = 0, time = 0, z = 0, \\\n",
    "                returnDimOrder = 'CZT', debugFlag = True, squeezeResult = False)\n",
    "\n",
    "imgStack = io.imread(imgDir + fileName)\n",
    "assert((imgStack[0,0,:,:] == frame[0,0,0,:,:]).all())\n"
   ]
  },
  {
   "cell_type": "markdown",
   "metadata": {},
   "source": [
    "### Time Stack"
   ]
  },
  {
   "cell_type": "code",
   "execution_count": null,
   "metadata": {
    "collapsed": false
   },
   "outputs": [],
   "source": [
    "import displayTools\n",
    "\n",
    "imgDir = '/Users/zfphil/Dropbox/Datasets/AQLM/2017_05_05 - Multi-Contrast/'\n",
    "fileName = '2017_05_06_dpc+gfp_30sec_df.tif'\n",
    "\n",
    "mt = dt.MultiTiff(imgDir + fileName)\n",
    "frame = mt.read(channel = 0, time = range(0,3), z = 0, \\\n",
    "                returnDimOrder = 'CZT', debugFlag = False, squeezeResult = False)\n",
    "\n",
    "plt.figure(figsize=(8,3))\n",
    "plt.subplot(131)\n",
    "plt.imshow(frame[0,0,0,:,:])\n",
    "plt.subplot(132)\n",
    "plt.imshow(frame[0,0,1,:,:])\n",
    "plt.subplot(133)\n",
    "plt.imshow(frame[0,0,2,:,:])"
   ]
  },
  {
   "cell_type": "markdown",
   "metadata": {},
   "source": [
    "## Wavelength (DPC) Stack"
   ]
  },
  {
   "cell_type": "code",
   "execution_count": null,
   "metadata": {
    "collapsed": false
   },
   "outputs": [],
   "source": [
    "import displayTools\n",
    "\n",
    "imgDir = '/Users/zfphil/Dropbox/Datasets/AQLM/2017_05_05 - Multi-Contrast/'\n",
    "fileName = '2017_05_06_dpc+gfp_30sec_df.tif'\n",
    "\n",
    "mt = dt.MultiTiff(imgDir + fileName)\n",
    "frame = mt.read(channel = range(0,4), time = 0, z = 0, \\\n",
    "                returnDimOrder = 'CZT', debugFlag = False, squeezeResult = False)\n",
    "\n",
    "plt.figure(figsize = (10, 3))\n",
    "plt.subplot(141)\n",
    "plt.imshow(frame[0,0,0,:,:])\n",
    "plt.subplot(142)\n",
    "plt.imshow(frame[1,0,0,:,:])\n",
    "plt.subplot(143)\n",
    "plt.imshow(frame[2,0,0,:,:])\n",
    "plt.subplot(144)\n",
    "plt.imshow(frame[3,0,0,:,:])"
   ]
  },
  {
   "cell_type": "markdown",
   "metadata": {},
   "source": [
    "## 3D-DPC Stack"
   ]
  },
  {
   "cell_type": "code",
   "execution_count": null,
   "metadata": {
    "collapsed": false
   },
   "outputs": [],
   "source": [
    "imgDir = '/Users/zfphil/Dropbox/Datasets/Brain-MIC 2017/Testing/'\n",
    "fileName = '3d-dpc.tif'\n",
    "\n",
    "mt = dt.MultiTiff(imgDir + fileName)\n",
    "frame = mt.read(channel = range(0,4), z = [0,9], \\\n",
    "                returnDimOrder = 'CZT', debugFlag = False, squeezeResult = False)\n",
    "\n",
    "plt.figure(figsize = (10, 3))\n",
    "plt.subplot(241)\n",
    "plt.imshow(frame[0,0,0,:,:])\n",
    "plt.subplot(242)\n",
    "plt.imshow(frame[1,0,0,:,:])\n",
    "plt.subplot(243)\n",
    "plt.imshow(frame[2,0,0,:,:])\n",
    "plt.subplot(244)\n",
    "plt.imshow(frame[3,0,0,:,:])\n",
    "\n",
    "plt.subplot(245)\n",
    "plt.imshow(frame[0,1,0,:,:])\n",
    "plt.subplot(246)\n",
    "plt.imshow(frame[1,1,0,:,:])\n",
    "plt.subplot(247)\n",
    "plt.imshow(frame[2,1,0,:,:])\n",
    "plt.subplot(248)\n",
    "plt.imshow(frame[3,1,0,:,:])"
   ]
  },
  {
   "cell_type": "code",
   "execution_count": null,
   "metadata": {
    "collapsed": false
   },
   "outputs": [],
   "source": []
  },
  {
   "cell_type": "code",
   "execution_count": null,
   "metadata": {
    "collapsed": false,
    "deletable": true,
    "editable": true
   },
   "outputs": [],
   "source": [
    "%matplotlib inline\n",
    "#plot first set of measured DPC intensities\n",
    "f,ax = plt.subplots(1,4, sharex=True, sharey=True, figsize=(12,3))\n",
    "for plotIdx in range(4):\n",
    "    ax[plotIdx].imshow(DPCObj.intensity[plotIdx],cmap='gray',clim=(-.2,.2),\\\n",
    "                       extent=[min(dataParams.xlin.real),max(dataParams.xlin.real),min(dataParams.ylin.real),max(dataParams.ylin.real)])\n",
    "    ax[plotIdx].set_xlim(-5,5)\n",
    "    ax[plotIdx].set_ylim(-5,5)\n",
    "    ax[plotIdx].set_aspect(1)"
   ]
  },
  {
   "cell_type": "code",
   "execution_count": null,
   "metadata": {
    "collapsed": false,
    "deletable": true,
    "editable": true
   },
   "outputs": [],
   "source": [
    "DPCObj.reg_u=1\n",
    "DPCObj.reg_p=1e-5\n",
    "dpc_phase_l2 = DPCObj.solve()"
   ]
  },
  {
   "cell_type": "code",
   "execution_count": null,
   "metadata": {
    "collapsed": false,
    "deletable": true,
    "editable": true
   },
   "outputs": [],
   "source": [
    "DPCObj.reg_u=1\n",
    "DPCObj.reg_p=1e-5\n",
    "DPCObj.reg_TV = (1e-2, 1e-2)\n",
    "DPCObj.rho = 5e-1\n",
    "dpc_phase_1_iso = DPCObj.solve(method='TVDeconv')"
   ]
  },
  {
   "cell_type": "code",
   "execution_count": null,
   "metadata": {
    "collapsed": false,
    "deletable": true,
    "editable": true
   },
   "outputs": [],
   "source": [
    "DPCObj.reg_u=1\n",
    "DPCObj.reg_p=1e-5\n",
    "DPCObj.reg_TV = (1e-2, 1e-2)\n",
    "DPCObj.rho = 5e-1\n",
    "dpc_phase_2_iso = DPCObj.solve(method='TVDeconv', order = 2)"
   ]
  },
  {
   "cell_type": "code",
   "execution_count": null,
   "metadata": {
    "collapsed": false,
    "deletable": true,
    "editable": true
   },
   "outputs": [],
   "source": [
    "import contexttimer\n",
    "with contexttimer.Timer() as t:\n",
    "    DPCObj.reg_u=1\n",
    "    DPCObj.reg_p=1e-5\n",
    "    DPCObj.reg_TV = (1e-2,1e-2)\n",
    "    DPCObj.rho = 5e-1\n",
    "    dpc_phase_3_iso = DPCObj.solve(method='TVDeconv', order = 3)\n",
    "    print(t.elapsed)"
   ]
  },
  {
   "cell_type": "code",
   "execution_count": null,
   "metadata": {
    "collapsed": false,
    "deletable": true,
    "editable": true
   },
   "outputs": [],
   "source": [
    "from opticsTools import pupilGen\n",
    "from algorithms import Fourier\n",
    "Fobj = Fourier(dataParams.dim,(-1,-2))\n",
    "F = lambda x: Fobj.FourierTransform(x)\n",
    "IF = lambda x: Fobj.InverseFourierTransform(x)\n",
    "P2NA = pupilGen(dataParams,dataParams.NA*2.0)\n",
    "phantom = np.zeros(dataParams.dim)\n",
    "phantom = (1.5**-1)*(1.5**2-(dataParams.xlin.real[np.newaxis,:]-0.1)**2-(dataParams.ylin.real[:,np.newaxis]+0)**2)**0.5\n",
    "phantom[(dataParams.xlin.real[np.newaxis,:]-0.1)**2+(dataParams.ylin.real[:,np.newaxis]+0)**2>1.5**2]=0\n",
    "# phantom = np.angle(IF(F(np.exp(1j*phantom))*P2NA))\n",
    "color_label = ['r','g','b','c']\n",
    "for plotIdx,img in enumerate([dpc_phase_l2[0],dpc_phase_1_iso[0],dpc_phase_2_iso[0],dpc_phase_3_iso[0]]):\n",
    "    plt.plot(img[260,:].imag,color=color_label[plotIdx])\n",
    "    plt.xlim(160,350)\n",
    "plt.scatter(np.arange(512),phantom[260,:],facecolors='none',edgecolors='k')"
   ]
  },
  {
   "cell_type": "code",
   "execution_count": null,
   "metadata": {
    "collapsed": false,
    "deletable": true,
    "editable": true,
    "scrolled": false
   },
   "outputs": [],
   "source": [
    "color_label = ['r','g','b','c','k']\n",
    "for plotIdx,img in enumerate([dpc_phase_l2[0],dpc_phase_1_iso[0],dpc_phase_2_iso[0],dpc_phase_3_iso[0],1j*phantom]):\n",
    "    plt.plot(np.gradient(img[260,:].imag),color=color_label[plotIdx])\n",
    "    plt.xlim(160,350)"
   ]
  },
  {
   "cell_type": "code",
   "execution_count": null,
   "metadata": {
    "collapsed": false,
    "deletable": true,
    "editable": true,
    "scrolled": false
   },
   "outputs": [],
   "source": [
    "color_label = ['r','g','b','c','k']\n",
    "for plotIdx,img in enumerate([dpc_phase_l2[0],dpc_phase_1_iso[0],dpc_phase_2_iso[0],dpc_phase_3_iso[0],1j*phantom]):\n",
    "    plt.plot(np.gradient(np.gradient(img[260,:].imag)),color=color_label[plotIdx])\n",
    "    plt.xlim(160,350)"
   ]
  },
  {
   "cell_type": "code",
   "execution_count": null,
   "metadata": {
    "collapsed": false,
    "deletable": true,
    "editable": true,
    "scrolled": false
   },
   "outputs": [],
   "source": [
    "color_label = ['r','g','b','c','k']\n",
    "for plotIdx,img in enumerate([dpc_phase_l2[0],dpc_phase_1_iso[0],dpc_phase_2_iso[0],dpc_phase_3_iso[0],1j*phantom]):\n",
    "    plt.plot(np.gradient(np.gradient(np.gradient(img[260,:].imag))),color=color_label[plotIdx])\n",
    "    plt.xlim(160,350)"
   ]
  },
  {
   "cell_type": "code",
   "execution_count": null,
   "metadata": {
    "collapsed": false,
    "deletable": true,
    "editable": true,
    "scrolled": false
   },
   "outputs": [],
   "source": [
    "plt.figure(figsize=(10,6))\n",
    "for plotIdx,img in enumerate([dpc_phase_l2.real,dpc_phase_1_iso.real,dpc_phase_2_iso.real,dpc_phase_3_iso.real,\\\n",
    "                              dpc_phase_l2.imag,dpc_phase_1_iso.imag,dpc_phase_2_iso.imag,dpc_phase_3_iso.imag]):\n",
    "    plt.subplot('24'+str(plotIdx+1))\n",
    "    val_limit = (0.95,1.05) if plotIdx<4 else (-.5,1.1)\n",
    "    data_display = np.exp(img[0]) if plotIdx<4 else img[0]\n",
    "    plt.imshow(data_display,clim=val_limit,cmap='gray',extent=[min(dataParams.xlin.real),max(dataParams.xlin.real),min(dataParams.ylin.real),max(dataParams.ylin.real)])\n",
    "    if plotIdx>3: plt.xlabel('x, $\\mu m$')\n",
    "    if plotIdx==0 or plotIdx==4:plt.ylabel('y, $\\mu m$')\n",
    "    plt.xlim(-5,5)\n",
    "    plt.ylim(-5,5)\n",
    "    title_text = 'amplitude' if plotIdx<4 else 'phase'\n",
    "    plt.title(title_text)"
   ]
  },
  {
   "cell_type": "code",
   "execution_count": null,
   "metadata": {
    "collapsed": false,
    "deletable": true,
    "editable": true,
    "scrolled": false
   },
   "outputs": [],
   "source": [
    "plt.figure(figsize=(16,4))\n",
    "for plotIdx,img in enumerate([dpc_phase_l2.imag,dpc_phase_1_iso.imag,dpc_phase_2_iso.imag,dpc_phase_3_iso.imag,[phantom]]):\n",
    "    plt.subplot('15'+str(plotIdx+1))\n",
    "    plt.imshow(np.gradient(img[0],axis=0),clim=(-.1,.1),cmap='gray',extent=[min(dataParams.xlin.real),max(dataParams.xlin.real),min(dataParams.ylin.real),max(dataParams.ylin.real)])\n",
    "    plt.xlabel('x, $\\mu m$')\n",
    "    if plotIdx==0:plt.ylabel('y, $\\mu m$')\n",
    "    plt.xlim(-5,5)\n",
    "    plt.ylim(-5,5)\n",
    "    plt.title('phase_gradient')"
   ]
  },
  {
   "cell_type": "code",
   "execution_count": null,
   "metadata": {
    "collapsed": false,
    "deletable": true,
    "editable": true,
    "scrolled": false
   },
   "outputs": [],
   "source": [
    "dpc_phase_gd,error_gd = DPCObj.solve(method='gradientDescent',maxIter=200,convex=True,plot_verbose=False,verbose=True)"
   ]
  },
  {
   "cell_type": "code",
   "execution_count": null,
   "metadata": {
    "collapsed": false,
    "deletable": true,
    "editable": true,
    "scrolled": false
   },
   "outputs": [],
   "source": [
    "plt.figure(figsize=(12,4))\n",
    "plt.subplot(131)\n",
    "plt.imshow(dpc_phase_gd[0].imag,cmap='gray',clim=(-0.5,1.1),extent=[min(dataParams.xlin.real),max(dataParams.xlin.real),min(dataParams.ylin.real),max(dataParams.ylin.real)])\n",
    "plt.xlim(-5,5)\n",
    "plt.ylim(-5,5)\n",
    "plt.subplot(132)\n",
    "plt.plot(dpc_phase_gd[0,260,:].imag,color='r')\n",
    "plt.xlim(160,350)\n",
    "plt.subplot(133)\n",
    "plt.scatter(np.arange(len(error_gd[0])),np.log10(error_gd[0]),marker='o',color='b')"
   ]
  },
  {
   "cell_type": "code",
   "execution_count": null,
   "metadata": {
    "collapsed": false,
    "deletable": true,
    "editable": true,
    "scrolled": false
   },
   "outputs": [],
   "source": [
    "dpc_phase_FISTA,error_FISTA = DPCObj.solve(method='FISTA',maxIter=200,convex=True,plot_verbose=False,verbose=True)"
   ]
  },
  {
   "cell_type": "code",
   "execution_count": null,
   "metadata": {
    "collapsed": false,
    "deletable": true,
    "editable": true,
    "scrolled": false
   },
   "outputs": [],
   "source": [
    "plt.figure(figsize=(12,4))\n",
    "plt.subplot(131)\n",
    "plt.imshow(dpc_phase_FISTA[0].imag,cmap='gray',clim=(-0.5,1.1),extent=[min(dataParams.xlin.real),max(dataParams.xlin.real),min(dataParams.ylin.real),max(dataParams.ylin.real)])\n",
    "plt.xlim(-5,5)\n",
    "plt.ylim(-5,5)\n",
    "plt.subplot(132)\n",
    "plt.plot(dpc_phase_FISTA[0,260,:].imag,color='r')\n",
    "plt.xlim(160,350)\n",
    "plt.subplot(133)\n",
    "plt.scatter(np.arange(len(error_FISTA[0])),np.log10(error_FISTA[0]),marker='o',color='b')"
   ]
  },
  {
   "cell_type": "code",
   "execution_count": null,
   "metadata": {
    "collapsed": false,
    "deletable": true,
    "editable": true,
    "scrolled": false
   },
   "outputs": [],
   "source": [
    "dpc_phase_Newton,error_Newton = DPCObj.solve(method='Newton',maxIter=3,verbose=True)"
   ]
  },
  {
   "cell_type": "code",
   "execution_count": null,
   "metadata": {
    "collapsed": false,
    "deletable": true,
    "editable": true,
    "scrolled": false
   },
   "outputs": [],
   "source": [
    "plt.figure(figsize=(12,4))\n",
    "plt.subplot(131)\n",
    "plt.imshow(dpc_phase_Newton[0].imag,cmap='gray',clim=(-0.5,1.1),extent=[min(dataParams.xlin.real),max(dataParams.xlin.real),min(dataParams.ylin.real),max(dataParams.ylin.real)])\n",
    "plt.xlim(-5,5)\n",
    "plt.ylim(-5,5)\n",
    "plt.subplot(132)\n",
    "plt.plot(dpc_phase_Newton[0,260,:].imag,color='r')\n",
    "plt.xlim(160,350)\n",
    "plt.subplot(133)\n",
    "plt.scatter(np.arange(len(error_Newton[0])),np.log10(error_Newton[0]),marker='o',color='b')"
   ]
  },
  {
   "cell_type": "code",
   "execution_count": null,
   "metadata": {
    "collapsed": false,
    "deletable": true,
    "editable": true
   },
   "outputs": [],
   "source": [
    "pickle.dump(pyfftw.export_wisdom(),open('../wisdoms/wisdom_gallery.pickle','wb'))"
   ]
  }
 ],
 "metadata": {
  "kernelspec": {
   "display_name": "Python 3",
   "language": "python",
   "name": "python3"
  },
  "language_info": {
   "codemirror_mode": {
    "name": "ipython",
    "version": 3
   },
   "file_extension": ".py",
   "mimetype": "text/x-python",
   "name": "python",
   "nbconvert_exporter": "python",
   "pygments_lexer": "ipython3",
   "version": "3.4.5"
  },
  "latex_envs": {
   "bibliofile": "biblio.bib",
   "cite_by": "apalike",
   "current_citInitial": 1,
   "eqLabelWithNumbers": true,
   "eqNumInitial": 0
  },
  "toc": {
   "nav_menu": {
    "height": "48px",
    "width": "254px"
   },
   "navigate_menu": true,
   "number_sections": true,
   "sideBar": true,
   "threshold": 4,
   "toc_cell": false,
   "toc_section_display": "block",
   "toc_window_display": false
  }
 },
 "nbformat": 4,
 "nbformat_minor": 2
}
